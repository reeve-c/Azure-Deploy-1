{
 "cells": [
  {
   "cell_type": "code",
   "execution_count": 2,
   "id": "e51700cb",
   "metadata": {},
   "outputs": [],
   "source": [
    "import pandas as pd\n",
    "import numpy as np\n",
    "from sklearn.metrics.pairwise import cosine_similarity\n",
    "import pickle"
   ]
  },
  {
   "cell_type": "code",
   "execution_count": 3,
   "id": "3d624b9e",
   "metadata": {},
   "outputs": [
    {
     "data": {
      "text/html": [
       "<div>\n",
       "<style scoped>\n",
       "    .dataframe tbody tr th:only-of-type {\n",
       "        vertical-align: middle;\n",
       "    }\n",
       "\n",
       "    .dataframe tbody tr th {\n",
       "        vertical-align: top;\n",
       "    }\n",
       "\n",
       "    .dataframe thead th {\n",
       "        text-align: right;\n",
       "    }\n",
       "</style>\n",
       "<table border=\"1\" class=\"dataframe\">\n",
       "  <thead>\n",
       "    <tr style=\"text-align: right;\">\n",
       "      <th></th>\n",
       "      <th>name</th>\n",
       "      <th>age</th>\n",
       "      <th>gender</th>\n",
       "      <th>cafe_location</th>\n",
       "      <th>product_name</th>\n",
       "      <th>purchase_date</th>\n",
       "      <th>ingredients</th>\n",
       "    </tr>\n",
       "  </thead>\n",
       "  <tbody>\n",
       "    <tr>\n",
       "      <th>0</th>\n",
       "      <td>John Smith</td>\n",
       "      <td>28</td>\n",
       "      <td>Male</td>\n",
       "      <td>123 Main St</td>\n",
       "      <td>Cheese Danish</td>\n",
       "      <td>2023-05-23</td>\n",
       "      <td>['Pastry dough', 'Cream cheese', 'Sugar', 'Van...</td>\n",
       "    </tr>\n",
       "    <tr>\n",
       "      <th>1</th>\n",
       "      <td>John Smith</td>\n",
       "      <td>28</td>\n",
       "      <td>Male</td>\n",
       "      <td>123 Main St</td>\n",
       "      <td>Espresso</td>\n",
       "      <td>2023-05-23</td>\n",
       "      <td>['Espresso']</td>\n",
       "    </tr>\n",
       "    <tr>\n",
       "      <th>2</th>\n",
       "      <td>John Smith</td>\n",
       "      <td>28</td>\n",
       "      <td>Male</td>\n",
       "      <td>123 Main St</td>\n",
       "      <td>Cappuccino</td>\n",
       "      <td>2023-05-23</td>\n",
       "      <td>['Espresso', 'Steamed milk', 'Foamed milk']</td>\n",
       "    </tr>\n",
       "    <tr>\n",
       "      <th>3</th>\n",
       "      <td>John Smith</td>\n",
       "      <td>28</td>\n",
       "      <td>Male</td>\n",
       "      <td>123 Main St</td>\n",
       "      <td>Mocha Frappuccino</td>\n",
       "      <td>2023-05-23</td>\n",
       "      <td>['Coffee', 'Ice', 'Milk', 'Chocolate syrup', '...</td>\n",
       "    </tr>\n",
       "    <tr>\n",
       "      <th>4</th>\n",
       "      <td>Michael Brown</td>\n",
       "      <td>43</td>\n",
       "      <td>Male</td>\n",
       "      <td>456 Elm St</td>\n",
       "      <td>Espresso</td>\n",
       "      <td>2023-05-25</td>\n",
       "      <td>['Espresso']</td>\n",
       "    </tr>\n",
       "    <tr>\n",
       "      <th>...</th>\n",
       "      <td>...</td>\n",
       "      <td>...</td>\n",
       "      <td>...</td>\n",
       "      <td>...</td>\n",
       "      <td>...</td>\n",
       "      <td>...</td>\n",
       "      <td>...</td>\n",
       "    </tr>\n",
       "    <tr>\n",
       "      <th>68</th>\n",
       "      <td>Henry Lee</td>\n",
       "      <td>51</td>\n",
       "      <td>Male</td>\n",
       "      <td>123 Main St</td>\n",
       "      <td>Cappuccino</td>\n",
       "      <td>2023-05-23</td>\n",
       "      <td>['Espresso', 'Steamed milk', 'Foamed milk']</td>\n",
       "    </tr>\n",
       "    <tr>\n",
       "      <th>69</th>\n",
       "      <td>Alexander Harris</td>\n",
       "      <td>40</td>\n",
       "      <td>Male</td>\n",
       "      <td>123 Main St</td>\n",
       "      <td>Iced Coffee</td>\n",
       "      <td>2023-05-22</td>\n",
       "      <td>['Coffee', 'Ice', 'Milk', 'Sweetener (optional)']</td>\n",
       "    </tr>\n",
       "    <tr>\n",
       "      <th>70</th>\n",
       "      <td>Alexander Harris</td>\n",
       "      <td>40</td>\n",
       "      <td>Male</td>\n",
       "      <td>123 Main St</td>\n",
       "      <td>Espresso</td>\n",
       "      <td>2023-05-22</td>\n",
       "      <td>['Espresso']</td>\n",
       "    </tr>\n",
       "    <tr>\n",
       "      <th>71</th>\n",
       "      <td>Michael Martin</td>\n",
       "      <td>57</td>\n",
       "      <td>Male</td>\n",
       "      <td>789 Oak St</td>\n",
       "      <td>Caffè Americano</td>\n",
       "      <td>2023-05-24</td>\n",
       "      <td>['Espresso', 'Hot water']</td>\n",
       "    </tr>\n",
       "    <tr>\n",
       "      <th>72</th>\n",
       "      <td>Michael Martin</td>\n",
       "      <td>57</td>\n",
       "      <td>Male</td>\n",
       "      <td>789 Oak St</td>\n",
       "      <td>Mocha Frappuccino</td>\n",
       "      <td>2023-05-24</td>\n",
       "      <td>['Coffee', 'Ice', 'Milk', 'Chocolate syrup', '...</td>\n",
       "    </tr>\n",
       "  </tbody>\n",
       "</table>\n",
       "<p>73 rows × 7 columns</p>\n",
       "</div>"
      ],
      "text/plain": [
       "                name  age gender cafe_location       product_name  \\\n",
       "0         John Smith   28   Male   123 Main St      Cheese Danish   \n",
       "1         John Smith   28   Male   123 Main St           Espresso   \n",
       "2         John Smith   28   Male   123 Main St         Cappuccino   \n",
       "3         John Smith   28   Male   123 Main St  Mocha Frappuccino   \n",
       "4      Michael Brown   43   Male    456 Elm St           Espresso   \n",
       "..               ...  ...    ...           ...                ...   \n",
       "68         Henry Lee   51   Male   123 Main St         Cappuccino   \n",
       "69  Alexander Harris   40   Male   123 Main St        Iced Coffee   \n",
       "70  Alexander Harris   40   Male   123 Main St           Espresso   \n",
       "71    Michael Martin   57   Male    789 Oak St    Caffè Americano   \n",
       "72    Michael Martin   57   Male    789 Oak St  Mocha Frappuccino   \n",
       "\n",
       "   purchase_date                                        ingredients  \n",
       "0     2023-05-23  ['Pastry dough', 'Cream cheese', 'Sugar', 'Van...  \n",
       "1     2023-05-23                                       ['Espresso']  \n",
       "2     2023-05-23        ['Espresso', 'Steamed milk', 'Foamed milk']  \n",
       "3     2023-05-23  ['Coffee', 'Ice', 'Milk', 'Chocolate syrup', '...  \n",
       "4     2023-05-25                                       ['Espresso']  \n",
       "..           ...                                                ...  \n",
       "68    2023-05-23        ['Espresso', 'Steamed milk', 'Foamed milk']  \n",
       "69    2023-05-22  ['Coffee', 'Ice', 'Milk', 'Sweetener (optional)']  \n",
       "70    2023-05-22                                       ['Espresso']  \n",
       "71    2023-05-24                          ['Espresso', 'Hot water']  \n",
       "72    2023-05-24  ['Coffee', 'Ice', 'Milk', 'Chocolate syrup', '...  \n",
       "\n",
       "[73 rows x 7 columns]"
      ]
     },
     "execution_count": 3,
     "metadata": {},
     "output_type": "execute_result"
    }
   ],
   "source": [
    "data = pd.read_csv('Revised_Customer_Details_3.csv')\n",
    "data = data.iloc[:,1:]\n",
    "data"
   ]
  },
  {
   "cell_type": "code",
   "execution_count": 3,
   "id": "2e9c5067",
   "metadata": {},
   "outputs": [],
   "source": [
    "unique_drinks = data['product_name'].unique()\n",
    "unique_ingredients = set()"
   ]
  },
  {
   "cell_type": "code",
   "execution_count": 4,
   "id": "41ca2f9e",
   "metadata": {},
   "outputs": [],
   "source": [
    "for ingredients in data['ingredients']:\n",
    "    unique_ingredients.update(eval(ingredients))"
   ]
  },
  {
   "cell_type": "code",
   "execution_count": 5,
   "id": "7df1c583",
   "metadata": {},
   "outputs": [],
   "source": [
    "binary_vectors = {}"
   ]
  },
  {
   "cell_type": "code",
   "execution_count": 6,
   "id": "60d175de",
   "metadata": {},
   "outputs": [],
   "source": [
    "for drink in unique_drinks:\n",
    "    drink_vector = np.zeros(len(unique_ingredients))\n",
    "    ingredients = eval(data[data['product_name'] == drink]['ingredients'].values[0])\n",
    "    for ingredient in ingredients:\n",
    "        drink_vector[list(unique_ingredients).index(ingredient)] = 1\n",
    "    binary_vectors[drink] = drink_vector"
   ]
  },
  {
   "cell_type": "code",
   "execution_count": 7,
   "id": "2ef23465",
   "metadata": {},
   "outputs": [],
   "source": [
    "similarity_matrix = np.zeros((len(unique_drinks), len(unique_drinks)))"
   ]
  },
  {
   "cell_type": "code",
   "execution_count": 8,
   "id": "2796815e",
   "metadata": {},
   "outputs": [],
   "source": [
    "for i in range(len(unique_drinks)):\n",
    "    for j in range(len(unique_drinks)):\n",
    "        similarity_matrix[i, j] = cosine_similarity([binary_vectors[unique_drinks[i]]], [binary_vectors[unique_drinks[j]]])[0, 0]"
   ]
  },
  {
   "cell_type": "code",
   "execution_count": 9,
   "id": "ce6fd873",
   "metadata": {},
   "outputs": [],
   "source": [
    "def recommend_new_drink(drinks_list):\n",
    "    drink_vectors = [binary_vectors[drink] for drink in drinks_list]\n",
    "    avg_vector = np.mean(drink_vectors, axis=0)\n",
    "    similarity_scores = cosine_similarity([avg_vector], list(binary_vectors.values()))[0]\n",
    "    sorted_indices = np.argsort(similarity_scores)[::-1]\n",
    "    recommended_drink = unique_drinks[sorted_indices]\n",
    "    return recommended_drink[1:4]"
   ]
  },
  {
   "cell_type": "code",
   "execution_count": 10,
   "id": "c078b79e",
   "metadata": {},
   "outputs": [
    {
     "name": "stdout",
     "output_type": "stream",
     "text": [
      "Recommended drink based on ['Espresso']: ['Caffè Americano' 'Cappuccino' 'Caramel Macchiato']\n"
     ]
    }
   ],
   "source": [
    "# Test the recommendation system\n",
    "drinks_list = ['Espresso']\n",
    "recommended_drink = recommend_new_drink(drinks_list)\n",
    "\n",
    "print(f\"Recommended drink based on {drinks_list}: {recommended_drink}\")"
   ]
  },
  {
   "cell_type": "code",
   "execution_count": 11,
   "id": "bd64ddc5",
   "metadata": {},
   "outputs": [],
   "source": [
    "pickle.dump(binary_vectors, open('binary_vectors.pkl','wb'))\n",
    "pickle.dump(unique_drinks, open('unique_drinks.pkl','wb'))"
   ]
  },
  {
   "cell_type": "code",
   "execution_count": 6,
   "id": "a17e45d7",
   "metadata": {},
   "outputs": [
    {
     "name": "stdout",
     "output_type": "stream",
     "text": [
      "['Cheese Danish' 'Espresso' 'Cappuccino' 'Mocha Frappuccino']\n",
      "None\n"
     ]
    }
   ],
   "source": [
    "# Function to filter the DataFrame based on a person's name\n",
    "def filter_dataframe_by_name(name):\n",
    "    filtered_data= data[data['name'] == name]\n",
    "    previously_ordered = filtered_data['product_name'].values\n",
    "    print(previously_ordered)\n",
    "# Get the input name from the user\n",
    "input_name = \"John Smith\"\n",
    "\n",
    "# Filter the DataFrame based on the input name\n",
    "filtered_data = filter_dataframe_by_name(input_name)\n",
    "\n",
    "# Print the filtered DataFrame\n",
    "print(filtered_data)"
   ]
  },
  {
   "cell_type": "code",
   "execution_count": 8,
   "id": "a40653b0",
   "metadata": {},
   "outputs": [
    {
     "data": {
      "text/plain": [
       "array(['John Smith', 'Michael Brown', 'Emily Johnson', 'Emma Johnson',\n",
       "       'Liam Smith', 'Olivia Davis', 'Noah Martinez', 'Ava Anderson',\n",
       "       'Sophia Taylor', 'Isabella Clark', 'Mia Walker', 'Charlotte Baker',\n",
       "       'Amelia Gonzalez', 'Harper Rodriguez', 'Evelyn Hernandez',\n",
       "       'Abigail Lopez', 'William Wilson', 'James Moore',\n",
       "       'Benjamin Jackson', 'Lucas Thompson', 'Henry Lee',\n",
       "       'Alexander Harris', 'Michael Martin'], dtype=object)"
      ]
     },
     "execution_count": 8,
     "metadata": {},
     "output_type": "execute_result"
    }
   ],
   "source": [
    "data['name'].unique()"
   ]
  },
  {
   "cell_type": "code",
   "execution_count": 9,
   "id": "a24fe086",
   "metadata": {},
   "outputs": [],
   "source": [
    "pickle.dump(data, open('customer_data.pkl','wb'))"
   ]
  },
  {
   "cell_type": "code",
   "execution_count": null,
   "id": "6f94c02c",
   "metadata": {},
   "outputs": [],
   "source": []
  }
 ],
 "metadata": {
  "kernelspec": {
   "display_name": "Python 3 (ipykernel)",
   "language": "python",
   "name": "python3"
  },
  "language_info": {
   "codemirror_mode": {
    "name": "ipython",
    "version": 3
   },
   "file_extension": ".py",
   "mimetype": "text/x-python",
   "name": "python",
   "nbconvert_exporter": "python",
   "pygments_lexer": "ipython3",
   "version": "3.10.11"
  }
 },
 "nbformat": 4,
 "nbformat_minor": 5
}
