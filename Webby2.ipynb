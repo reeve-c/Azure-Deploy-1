{
 "cells": [
  {
   "cell_type": "code",
   "execution_count": 14,
   "metadata": {},
   "outputs": [],
   "source": [
    "import pandas as pd\n",
    "import numpy as np\n",
    "from sklearn.metrics.pairwise import cosine_similarity\n",
    "import pickle\n",
    "\n",
    "data = pd.read_csv('Revised_Customer_Details_3.csv')\n",
    "\n",
    "class DrinkRecommendationModel:\n",
    "    def __init__(self):\n",
    "        self.binary_vectors = None\n",
    "        self.unique_drinks = None\n",
    "        self.unique_ingredients = None\n",
    "\n",
    "        data = pd.read_csv('Revised_Customer_Details_3.csv')\n",
    "\n",
    "        unique_drinks = data['product_name'].unique()\n",
    "        unique_ingredients = set()\n",
    "\n",
    "        for ingredients in data['ingredients']:\n",
    "            unique_ingredients.update(eval(ingredients))\n",
    "\n",
    "        self.unique_drinks = unique_drinks\n",
    "        self.unique_ingredients = unique_ingredients\n",
    "\n",
    "        binary_vectors = {}\n",
    "\n",
    "        for drink in unique_drinks:\n",
    "            drink_vector = np.zeros(len(unique_ingredients))\n",
    "            ingredients = eval(data[data['product_name'] == drink]['ingredients'].values[0])\n",
    "            for ingredient in ingredients:\n",
    "                drink_vector[list(unique_ingredients).index(ingredient)] = 1\n",
    "            binary_vectors[drink] = drink_vector\n",
    "\n",
    "        self.binary_vectors = binary_vectors\n",
    "\n",
    "    def compute_similarity_matrix(self):\n",
    "        similarity_matrix = np.zeros((len(self.unique_drinks), len(self.unique_drinks)))\n",
    "\n",
    "        for i in range(len(self.unique_drinks)):\n",
    "            for j in range(len(self.unique_drinks)):\n",
    "                similarity_matrix[i, j] = cosine_similarity([self.binary_vectors[self.unique_drinks[i]]], [self.binary_vectors[self.unique_drinks[j]]])[0, 0]\n",
    "\n",
    "        return similarity_matrix\n",
    "\n",
    "    def recommend_new_drink(self, drinks_list):\n",
    "        drink_vectors = [self.binary_vectors[drink] for drink in drinks_list]\n",
    "        avg_vector = np.mean(drink_vectors, axis=0)\n",
    "        similarity_scores = cosine_similarity([avg_vector], list(self.binary_vectors.values()))[0]\n",
    "        sorted_indices = np.argsort(similarity_scores)[::-1]\n",
    "        recommended_drink = self.unique_drinks[sorted_indices[0]]\n",
    "        return recommended_drink\n",
    "    \n",
    "    def save_model(self, filename):\n",
    "        with open(filename, 'wb') as f:\n",
    "            pickle.dump(self, f)"
   ]
  },
  {
   "cell_type": "code",
   "execution_count": 15,
   "metadata": {},
   "outputs": [],
   "source": [
    "model = DrinkRecommendationModel()\n",
    "similarity_matrix = model.compute_similarity_matrix()"
   ]
  },
  {
   "cell_type": "code",
   "execution_count": 16,
   "metadata": {},
   "outputs": [
    {
     "name": "stdout",
     "output_type": "stream",
     "text": [
      "Recommended drink based on ['Espresso', 'Cappuccino', 'Iced Coffee']: Cappuccino\n"
     ]
    }
   ],
   "source": [
    "# Recommend a new drink\n",
    "drinks_list = ['Espresso', 'Cappuccino', 'Iced Coffee']\n",
    "recommended_drink = model.recommend_new_drink(drinks_list)\n",
    "\n",
    "print(f\"Recommended drink based on {drinks_list}: {recommended_drink}\")"
   ]
  },
  {
   "cell_type": "code",
   "execution_count": 18,
   "metadata": {},
   "outputs": [],
   "source": [
    "pickle.dump(model,open('model.pkl','wb'))\n",
    "pickle.dump(data,open('data.pkl','wb'))\n",
    "pickle.dump(similarity_matrix,open('similarity_matrix.pkl','wb'))"
   ]
  },
  {
   "cell_type": "code",
   "execution_count": null,
   "metadata": {},
   "outputs": [],
   "source": []
  }
 ],
 "metadata": {
  "kernelspec": {
   "display_name": "Celebal",
   "language": "python",
   "name": "python3"
  },
  "language_info": {
   "codemirror_mode": {
    "name": "ipython",
    "version": 3
   },
   "file_extension": ".py",
   "mimetype": "text/x-python",
   "name": "python",
   "nbconvert_exporter": "python",
   "pygments_lexer": "ipython3",
   "version": "3.10.11"
  },
  "orig_nbformat": 4
 },
 "nbformat": 4,
 "nbformat_minor": 2
}
